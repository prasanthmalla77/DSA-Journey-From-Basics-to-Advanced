{
 "cells": [
  {
   "cell_type": "code",
   "execution_count": 8,
   "metadata": {},
   "outputs": [
    {
     "name": "stdout",
     "output_type": "stream",
     "text": [
      "array('i')\n",
      "array('i', [1, 2, 3, 4, 5])\n"
     ]
    }
   ],
   "source": [
    "import array\n",
    "\"\"\"\n",
    "Explain: Arrays are used to store a sequence of elements of the same type.\n",
    "\"\"\"\n",
    "my_arry = array.array(\"i\") # time complexity is O(1)\n",
    "print(my_arry) #space complexity is O(1)\n",
    "my_array = array.array(\"i\", [1, 2, 3, 4, 5]) # time complexity is O(n)\n",
    "print(my_array)"
   ]
  },
  {
   "cell_type": "code",
   "execution_count": 6,
   "metadata": {},
   "outputs": [
    {
     "name": "stdout",
     "output_type": "stream",
     "text": [
      "[1 2 3 4 5]\n",
      "[]\n"
     ]
    }
   ],
   "source": [
    "import numpy as np\n",
    "my_arry = np.array([1,2,3,4,5]) # time complexity is O(n)\n",
    "print(my_arry) #space complexity is O(n)\n",
    "my_arry = np.array([], dtype=int) # time complexity is O(1)\n",
    "print(my_arry)"
   ]
  },
  {
   "cell_type": "markdown",
   "metadata": {},
   "source": [
    "# Insertion in an array\n",
    "\n",
    "\n",
    "THREE TYPES OF INSERTION\n",
    "1. At the end of the array\n",
    "2. At the beginning of the array\n",
    "3. At a given index\n"
   ]
  },
  {
   "cell_type": "code",
   "execution_count": 10,
   "metadata": {},
   "outputs": [
    {
     "name": "stdout",
     "output_type": "stream",
     "text": [
      "array('i')\n",
      "array('i', [1, 2, 3, 4, 5])\n"
     ]
    }
   ],
   "source": [
    "import array\n",
    "\"\"\"\n",
    "Explain: Arrays are used to store a sequence of elements of the same type.\n",
    "\"\"\"\n",
    "my_arry = array.array(\"i\") # time complexity is O(1)\n",
    "print(my_arry) #space complexity is O(1)\n",
    "my_array = array.array(\"i\", [1, 2, 3, 4, 5]) # time complexity is O(n)\n",
    "print(my_array)"
   ]
  },
  {
   "cell_type": "code",
   "execution_count": 11,
   "metadata": {},
   "outputs": [
    {
     "name": "stdout",
     "output_type": "stream",
     "text": [
      "array('i', [6])\n"
     ]
    }
   ],
   "source": [
    "\"\"\"\n",
    "Insertion at the begining: new value wwill be added at the beginning of the array and all other values will be shifted to the right by one position.\n",
    "\"\"\"\n",
    "\"\"\"\n",
    "Insertion at the end: new value will be added at the end of the array , no change in the other values and indexes.\n",
    "\"\"\"\n",
    "\n",
    "my_arry.insert(0,6) #time complexity is O(n)\n",
    "print(my_arry)"
   ]
  },
  {
   "cell_type": "code",
   "execution_count": 12,
   "metadata": {},
   "outputs": [
    {
     "name": "stdout",
     "output_type": "stream",
     "text": [
      "array('i', [6, 7])\n"
     ]
    }
   ],
   "source": [
    "my_arry.append(7) #time complexity is O(1)\n",
    "print(my_arry)\n"
   ]
  },
  {
   "cell_type": "code",
   "execution_count": null,
   "metadata": {},
   "outputs": [],
   "source": []
  }
 ],
 "metadata": {
  "kernelspec": {
   "display_name": "Python 3",
   "language": "python",
   "name": "python3"
  },
  "language_info": {
   "codemirror_mode": {
    "name": "ipython",
    "version": 3
   },
   "file_extension": ".py",
   "mimetype": "text/x-python",
   "name": "python",
   "nbconvert_exporter": "python",
   "pygments_lexer": "ipython3",
   "version": "3.11.7"
  }
 },
 "nbformat": 4,
 "nbformat_minor": 2
}

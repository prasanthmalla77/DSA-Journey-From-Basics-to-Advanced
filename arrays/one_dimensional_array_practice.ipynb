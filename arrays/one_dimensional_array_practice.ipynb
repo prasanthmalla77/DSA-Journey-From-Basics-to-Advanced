{
 "cells": [
  {
   "cell_type": "code",
   "execution_count": 40,
   "metadata": {},
   "outputs": [
    {
     "name": "stdout",
     "output_type": "stream",
     "text": [
      "12345"
     ]
    }
   ],
   "source": [
    "#1. create an array and traverse\n",
    "import array\n",
    "my_array = array.array('i', [1,2,3,4,5])\n",
    "for i in range(len(my_array)):\n",
    "    print(my_array[i], end = \"\") # Time Complexity is O(n)"
   ]
  },
  {
   "cell_type": "code",
   "execution_count": 41,
   "metadata": {},
   "outputs": [
    {
     "name": "stdout",
     "output_type": "stream",
     "text": [
      "1\n",
      "2\n",
      "3\n"
     ]
    }
   ],
   "source": [
    "#2 Access individual images through indexes\n",
    "\n",
    "from array import *\n",
    "\n",
    "arr = array('i', [1, 2, 3, 4, 5, 6, 7, 8, 9, 10])\n",
    "\n",
    "print(arr[0])  # 1\n",
    "print(arr[1])  # 2\n",
    "print(arr[2])  # 3"
   ]
  },
  {
   "cell_type": "code",
   "execution_count": 42,
   "metadata": {},
   "outputs": [
    {
     "name": "stdout",
     "output_type": "stream",
     "text": [
      "array('i', [1, 12, 100, 3, 4, 5, 6, 7, 8, 9, 10, 11])\n"
     ]
    }
   ],
   "source": [
    "#  Append any value using append() function\n",
    "# insert any value using insert() function\n",
    "\n",
    "from array import *\n",
    "\n",
    "arr = array('i', [1, 2, 3, 4, 5, 6, 7, 8, 9, 10])\n",
    "\n",
    "arr.append(11) # time complexity is O(1)\n",
    "\n",
    "#using insert\n",
    "\n",
    "arr.insert(1,12) # time complexity is O(n)\n",
    "arr[2]=100 # time complexity is O(1)\n",
    "print(arr)"
   ]
  },
  {
   "cell_type": "code",
   "execution_count": 43,
   "metadata": {},
   "outputs": [
    {
     "name": "stdout",
     "output_type": "stream",
     "text": [
      "array('i', [1, 12, 100, 3, 4, 5, 6, 7, 8, 9, 10, 11, 11, 12, 13])\n"
     ]
    }
   ],
   "source": [
    "# Extend python array using extend() function\n",
    "\n",
    "arr.extend([11, 12, 13]) # time complexity is O(n)\n",
    "\n",
    "print(arr)"
   ]
  },
  {
   "cell_type": "code",
   "execution_count": 44,
   "metadata": {},
   "outputs": [
    {
     "name": "stdout",
     "output_type": "stream",
     "text": [
      "array('i', [1, 2, 3, 4, 5, 6, 7, 8, 9, 10, 11, 12, 13, 14, 15, 16, 17, 18, 19, 20, 11, 12, 13])\n"
     ]
    }
   ],
   "source": [
    "#6. ADD ITEMS FROM LIST INTO AN ARRAY\n",
    "\n",
    "from array import *\n",
    "\n",
    "arr = array('i', [1, 2, 3, 4, 5, 6, 7, 8, 9, 10,11,12,13,14,15,16,17,18,19,20])\n",
    "\n",
    "arr.fromlist([11, 12, 13]) # time complexity is O(n)\n",
    "\n",
    "print(arr)"
   ]
  },
  {
   "cell_type": "code",
   "execution_count": 45,
   "metadata": {},
   "outputs": [
    {
     "name": "stdout",
     "output_type": "stream",
     "text": [
      "array('i', [1, 2, 3, 4, 5, 6, 7, 8, 9, 10, 12, 13, 14, 15, 16, 17, 18, 19, 20, 11, 12, 13])\n"
     ]
    }
   ],
   "source": [
    "#7 . Remoove an element from the array using remove() function\n",
    "\n",
    "\n",
    "arr.remove(11) # time complexity is O(n)\n",
    "\n",
    "print(arr)"
   ]
  },
  {
   "cell_type": "code",
   "execution_count": 46,
   "metadata": {},
   "outputs": [
    {
     "name": "stdout",
     "output_type": "stream",
     "text": [
      "array('i', [1, 2, 3, 4, 5, 6, 7, 8, 9, 10, 12, 13, 14, 15, 16, 17, 18, 19, 20, 11, 12, 13])\n",
      "array('i', [1, 2, 3, 5, 6, 7, 8, 9, 10, 12, 13, 14, 15, 16, 17, 18, 19, 20, 11, 12])\n"
     ]
    }
   ],
   "source": [
    "# 8. Remove an element from the array using pop() function\n",
    "# 8(1). Remove element with index 3 using pop() function\n",
    "print(arr)\n",
    "\n",
    "arr.pop(3) # time complexity is O(n)\n",
    "arr.pop()\n",
    "\n",
    "print(arr)"
   ]
  },
  {
   "cell_type": "code",
   "execution_count": 47,
   "metadata": {},
   "outputs": [
    {
     "name": "stdout",
     "output_type": "stream",
     "text": [
      "array('i', [1, 2, 3, 5, 6, 7, 8, 9, 10, 12, 13, 14, 15, 16, 17, 18, 19, 20, 11, 12])\n",
      "10\n"
     ]
    }
   ],
   "source": [
    "# 9 fetch any element from an aray using index() function\n",
    "print(arr)\n",
    "print(arr.index(13)) # time complexity is O(n)\n",
    "\n"
   ]
  },
  {
   "cell_type": "code",
   "execution_count": 48,
   "metadata": {},
   "outputs": [
    {
     "name": "stdout",
     "output_type": "stream",
     "text": [
      "array('i', [12, 11, 20, 19, 18, 17, 16, 15, 14, 13, 12, 10, 9, 8, 7, 6, 5, 3, 2, 1])\n"
     ]
    }
   ],
   "source": [
    "# Reverse an array using reverse() function\n",
    "arr.reverse()\n",
    "print(arr) # time complexity is O(n)"
   ]
  },
  {
   "cell_type": "code",
   "execution_count": 49,
   "metadata": {},
   "outputs": [
    {
     "name": "stdout",
     "output_type": "stream",
     "text": [
      "array('i', [12, 11, 20, 19, 18, 17, 16, 15, 14, 13, 12, 10, 9, 8, 7, 6, 5, 3, 2, 1])\n",
      "(2704563020720, 20)\n"
     ]
    }
   ],
   "source": [
    "# 11 Get array buffer info using buffer_info() function\n",
    "print(arr)\n",
    "print(arr.buffer_info()) # time complexity is O(1)\n",
    "# this function returns a tuple that contains the pointer to the start of the array and the length of the array"
   ]
  },
  {
   "cell_type": "code",
   "execution_count": 50,
   "metadata": {},
   "outputs": [
    {
     "name": "stdout",
     "output_type": "stream",
     "text": [
      "array('i', [12, 11, 20, 19, 18, 17, 16, 15, 14, 13, 12, 10, 9, 8, 7, 6, 5, 3, 2, 1])\n",
      "2\n"
     ]
    }
   ],
   "source": [
    "# 12 check how many times a repeated element is present in an array\n",
    "print(arr)\n",
    "print(arr.count(12)) # time complexity is O(n)"
   ]
  },
  {
   "cell_type": "code",
   "execution_count": 51,
   "metadata": {},
   "outputs": [
    {
     "name": "stdout",
     "output_type": "stream",
     "text": [
      "array('i', [12, 11, 20, 19, 18, 17, 16, 15, 14, 13, 12, 10, 9, 8, 7, 6, 5, 3, 2, 1])\n",
      "[12, 11, 20, 19, 18, 17, 16, 15, 14, 13, 12, 10, 9, 8, 7, 6, 5, 3, 2, 1]\n"
     ]
    }
   ],
   "source": [
    "# 13 convert an array to list using tolist() function\n",
    "print(arr)\n",
    "print(arr.tolist()) # time complexity is O(1)\n"
   ]
  },
  {
   "cell_type": "code",
   "execution_count": 52,
   "metadata": {},
   "outputs": [
    {
     "name": "stdout",
     "output_type": "stream",
     "text": [
      "array('i', [12, 11, 20, 19, 18, 17, 16, 15, 14, 13, 12, 10, 9, 8, 7, 6, 5, 3, 2, 1])\n",
      "array('i', [20, 19, 18])\n"
     ]
    }
   ],
   "source": [
    "# slice elements from an array\n",
    "print(arr)\n",
    "print(arr[2:5]) # time complexity is O(1)"
   ]
  }
 ],
 "metadata": {
  "kernelspec": {
   "display_name": "Python 3",
   "language": "python",
   "name": "python3"
  },
  "language_info": {
   "codemirror_mode": {
    "name": "ipython",
    "version": 3
   },
   "file_extension": ".py",
   "mimetype": "text/x-python",
   "name": "python",
   "nbconvert_exporter": "python",
   "pygments_lexer": "ipython3",
   "version": "3.11.7"
  }
 },
 "nbformat": 4,
 "nbformat_minor": 2
}
